{
 "cells": [
  {
   "cell_type": "code",
   "execution_count": 1,
   "metadata": {},
   "outputs": [],
   "source": [
    "import ipyvuetify as v\n",
    "from traitlets import (Any, Bool, Dict, Int, Unicode, List)\n",
    "\n",
    "import demjson"
   ]
  },
  {
   "cell_type": "code",
   "execution_count": 2,
   "metadata": {},
   "outputs": [
    {
     "data": {
      "text/html": [
       "# For showing mdi icons in notebook\n",
       "<link href=\"https://cdn.jsdelivr.net/npm/@mdi/font@4.x/css/materialdesignicons.min.css\" rel=\"stylesheet\">\n"
      ],
      "text/plain": [
       "<IPython.core.display.HTML object>"
      ]
     },
     "metadata": {},
     "output_type": "display_data"
    }
   ],
   "source": [
    "%%HTML\n",
    "# For showing mdi icons in notebook\n",
    "<link href=\"https://cdn.jsdelivr.net/npm/@mdi/font@4.x/css/materialdesignicons.min.css\" rel=\"stylesheet\">"
   ]
  },
  {
   "cell_type": "markdown",
   "metadata": {},
   "source": [
    "# Sample components"
   ]
  },
  {
   "cell_type": "code",
   "execution_count": 3,
   "metadata": {},
   "outputs": [],
   "source": [
    "js_headers = '''[\n",
    "        {\n",
    "          text: 'Dessert (100g serving)',\n",
    "          align: 'left',\n",
    "          sortable: false,\n",
    "          value: 'name',\n",
    "        },\n",
    "        { text: 'Calories', value: 'calories' },\n",
    "        { text: 'Fat (g)', value: 'fat' },\n",
    "        { text: 'Carbs (g)', value: 'carbs' },\n",
    "        { text: 'Protein (g)', value: 'protein' },\n",
    "        { text: 'Iron (%)', value: 'iron' },\n",
    "      ]'''\n",
    "js_desserts = '''[\n",
    "        {\n",
    "          name: 'Frozen Yogurt',\n",
    "          calories: 159,\n",
    "          fat: 6.0,\n",
    "          carbs: 24,\n",
    "          protein: 4.0,\n",
    "          iron: '1%',\n",
    "        },\n",
    "        {\n",
    "          name: 'Ice cream sandwich',\n",
    "          calories: 237,\n",
    "          fat: 9.0,\n",
    "          carbs: 37,\n",
    "          protein: 4.3,\n",
    "          iron: '1%',\n",
    "        },\n",
    "        {\n",
    "          name: 'Eclair',\n",
    "          calories: 262,\n",
    "          fat: 16.0,\n",
    "          carbs: 23,\n",
    "          protein: 6.0,\n",
    "          iron: '7%',\n",
    "        },\n",
    "        {\n",
    "          name: 'Cupcake',\n",
    "          calories: 305,\n",
    "          fat: 3.7,\n",
    "          carbs: 67,\n",
    "          protein: 4.3,\n",
    "          iron: '8%',\n",
    "        },\n",
    "        {\n",
    "          name: 'Gingerbread',\n",
    "          calories: 356,\n",
    "          fat: 16.0,\n",
    "          carbs: 49,\n",
    "          protein: 3.9,\n",
    "          iron: '16%',\n",
    "        },\n",
    "        {\n",
    "          name: 'Jelly bean',\n",
    "          calories: 375,\n",
    "          fat: 0.0,\n",
    "          carbs: 94,\n",
    "          protein: 0.0,\n",
    "          iron: '0%',\n",
    "        },\n",
    "        {\n",
    "          name: 'Lollipop',\n",
    "          calories: 392,\n",
    "          fat: 0.2,\n",
    "          carbs: 98,\n",
    "          protein: 0,\n",
    "          iron: '2%',\n",
    "        },\n",
    "        {\n",
    "          name: 'Honeycomb',\n",
    "          calories: 408,\n",
    "          fat: 3.2,\n",
    "          carbs: 87,\n",
    "          protein: 6.5,\n",
    "          iron: '45%',\n",
    "        },\n",
    "        {\n",
    "          name: 'Donut',\n",
    "          calories: 452,\n",
    "          fat: 25.0,\n",
    "          carbs: 51,\n",
    "          protein: 4.9,\n",
    "          iron: '22%',\n",
    "        },\n",
    "        {\n",
    "          name: 'KitKat',\n",
    "          calories: 518,\n",
    "          fat: 26.0,\n",
    "          carbs: 65,\n",
    "          protein: 7,\n",
    "          iron: '6%',\n",
    "        },\n",
    "      ]'''"
   ]
  },
  {
   "cell_type": "code",
   "execution_count": 4,
   "metadata": {},
   "outputs": [
    {
     "data": {
      "application/vnd.jupyter.widget-view+json": {
       "model_id": "060d4d54da07452dabff8879de4c7820",
       "version_major": 2,
       "version_minor": 0
      },
      "text/plain": [
       "MyDataTable(desserts=[{'name': 'Frozen Yogurt', 'calories': 159, 'fat': 6.0, 'carbs': 24, 'protein': 4.0, 'iro…"
      ]
     },
     "metadata": {},
     "output_type": "display_data"
    }
   ],
   "source": [
    "py_desserts = demjson.decode(js_desserts)\n",
    "py_headers = demjson.decode(js_headers)\n",
    "\n",
    "class MyDataTable(v.VuetifyTemplate):\n",
    "    headers = List(py_headers).tag(sync=True)\n",
    "    desserts = List(py_desserts).tag(sync=True)\n",
    "\n",
    "    template = Unicode('''\n",
    "              <v-layout>\n",
    "                    <v-data-table\n",
    "                      :headers=\"headers\"\n",
    "                      :items=\"desserts\"\n",
    "                      :items-per-page=\"5\"\n",
    "                      class=\"elevation-1\"\n",
    "                    ></v-data-table>\n",
    "            </v-layout>''').tag(sync=True)\n",
    "\n",
    "dataTable = MyDataTable()\n",
    "dataTable"
   ]
  },
  {
   "cell_type": "markdown",
   "metadata": {},
   "source": [
    "## TreeView"
   ]
  },
  {
   "cell_type": "code",
   "execution_count": 6,
   "metadata": {},
   "outputs": [
    {
     "data": {
      "text/plain": [
       "\"\\njs_items = '''[\\n      {\\n        id: 1,\\n        name: 'Applications :',\\n        children: [\\n          { id: 2, name: 'Calendar : app' },\\n          { id: 3, name: 'Chrome : app' },\\n          { id: 4, name: 'Webstorm : app' },\\n        ],\\n      },\\n      {\\n        id: 5,\\n        name: 'Documents :',\\n        children: [\\n          {\\n            id: 6,\\n            name: 'vuetify :',\\n            children: [\\n              {\\n                id: 7,\\n                name: 'src :',\\n                children: [\\n                  { id: 8, name: 'index : ts' },\\n                  { id: 9, name: 'bootstrap : ts' },\\n                ],\\n              },\\n            ],\\n          },\\n          {\\n            id: 10,\\n            name: 'material2 :',\\n            children: [\\n              {\\n                id: 11,\\n                name: 'src :',\\n                children: [\\n                  { id: 12, name: 'v-btn : ts' },\\n                  { id: 13, name: 'v-card : ts' },\\n                  { id: 14, name: 'v-window : ts' },\\n                ],\\n              },\\n            ],\\n          },\\n        ],\\n      },\\n      {\\n        id: 15,\\n        name: 'Downloads :',\\n        children: [\\n          { id: 16, name: 'October : pdf' },\\n          { id: 17, name: 'November : pdf' },\\n          { id: 18, name: 'Tutorial : html' },\\n        ],\\n      },\\n      {\\n        id: 19,\\n        name: 'Videos :',\\n        children: [\\n          {\\n            id: 20,\\n            name: 'Tutorials :',\\n            children: [\\n              { id: 21, name: 'Basic layouts : mp4' },\\n              { id: 22, name: 'Advanced techniques : mp4' },\\n              { id: 23, name: 'All about app : dir' },\\n            ],\\n          },\\n          { id: 24, name: 'Intro : mov' },\\n          { id: 25, name: 'Conference introduction : avi' },\\n        ],\\n      },\\n    ]'''\\n\""
      ]
     },
     "execution_count": 6,
     "metadata": {},
     "output_type": "execute_result"
    }
   ],
   "source": [
    "\"\"\"\n",
    "js_items = '''[\n",
    "      {\n",
    "        id: 1,\n",
    "        name: 'Applications :',\n",
    "        children: [\n",
    "          { id: 2, name: 'Calendar : app' },\n",
    "          { id: 3, name: 'Chrome : app' },\n",
    "          { id: 4, name: 'Webstorm : app' },\n",
    "        ],\n",
    "      },\n",
    "      {\n",
    "        id: 5,\n",
    "        name: 'Documents :',\n",
    "        children: [\n",
    "          {\n",
    "            id: 6,\n",
    "            name: 'vuetify :',\n",
    "            children: [\n",
    "              {\n",
    "                id: 7,\n",
    "                name: 'src :',\n",
    "                children: [\n",
    "                  { id: 8, name: 'index : ts' },\n",
    "                  { id: 9, name: 'bootstrap : ts' },\n",
    "                ],\n",
    "              },\n",
    "            ],\n",
    "          },\n",
    "          {\n",
    "            id: 10,\n",
    "            name: 'material2 :',\n",
    "            children: [\n",
    "              {\n",
    "                id: 11,\n",
    "                name: 'src :',\n",
    "                children: [\n",
    "                  { id: 12, name: 'v-btn : ts' },\n",
    "                  { id: 13, name: 'v-card : ts' },\n",
    "                  { id: 14, name: 'v-window : ts' },\n",
    "                ],\n",
    "              },\n",
    "            ],\n",
    "          },\n",
    "        ],\n",
    "      },\n",
    "      {\n",
    "        id: 15,\n",
    "        name: 'Downloads :',\n",
    "        children: [\n",
    "          { id: 16, name: 'October : pdf' },\n",
    "          { id: 17, name: 'November : pdf' },\n",
    "          { id: 18, name: 'Tutorial : html' },\n",
    "        ],\n",
    "      },\n",
    "      {\n",
    "        id: 19,\n",
    "        name: 'Videos :',\n",
    "        children: [\n",
    "          {\n",
    "            id: 20,\n",
    "            name: 'Tutorials :',\n",
    "            children: [\n",
    "              { id: 21, name: 'Basic layouts : mp4' },\n",
    "              { id: 22, name: 'Advanced techniques : mp4' },\n",
    "              { id: 23, name: 'All about app : dir' },\n",
    "            ],\n",
    "          },\n",
    "          { id: 24, name: 'Intro : mov' },\n",
    "          { id: 25, name: 'Conference introduction : avi' },\n",
    "        ],\n",
    "      },\n",
    "    ]'''\n",
    "\"\"\""
   ]
  },
  {
   "cell_type": "code",
   "execution_count": 5,
   "metadata": {},
   "outputs": [
    {
     "data": {
      "text/plain": [
       "'\\npy_items = demjson.decode(js_items)\\n\\nclass MyTreeView(v.VuetifyTemplate):\\n    items = List(py_items).tag(sync=True)\\n\\n    template = Unicode(\\'\\'\\'\\n              <v-layout>\\n                    <v-treeview :items=\"items\"></v-treeview>\\n            </v-layout>\\'\\'\\').tag(sync=True)\\n\\ntreeview = MyTreeView()\\ntreeview \\n'"
      ]
     },
     "execution_count": 5,
     "metadata": {},
     "output_type": "execute_result"
    }
   ],
   "source": [
    "\"\"\"\n",
    "py_items = demjson.decode(js_items)\n",
    "\n",
    "class MyTreeView(v.VuetifyTemplate):\n",
    "    items = List(py_items).tag(sync=True)\n",
    "\n",
    "    template = Unicode('''\n",
    "              <v-layout>\n",
    "                    <v-treeview :items=\"items\"></v-treeview>\n",
    "            </v-layout>''').tag(sync=True)\n",
    "\n",
    "treeview = MyTreeView()\n",
    "treeview \n",
    "\"\"\"    \n"
   ]
  },
  {
   "cell_type": "markdown",
   "metadata": {},
   "source": [
    "## Timeline"
   ]
  },
  {
   "cell_type": "code",
   "execution_count": 7,
   "metadata": {},
   "outputs": [
    {
     "data": {
      "application/vnd.jupyter.widget-view+json": {
       "model_id": "93105e48ad7e40ec890d16e9868aef47",
       "version_major": 2,
       "version_minor": 0
      },
      "text/plain": [
       "MyTimeline()"
      ]
     },
     "metadata": {},
     "output_type": "display_data"
    }
   ],
   "source": [
    "class MyTimeline(v.VuetifyTemplate):\n",
    "\n",
    "    template = Unicode('''\n",
    "    <v-timeline>\n",
    "        <v-timeline-item>timeline item</v-timeline-item>\n",
    "        <v-timeline-item class=\"text-right\">timeline item</v-timeline-item>\n",
    "        <v-timeline-item>timeline item</v-timeline-item>\n",
    "    </v-timeline>\n",
    "    ''').tag(sync=True)\n",
    "\n",
    "timeline = MyTimeline()\n",
    "timeline \n",
    "\n"
   ]
  },
  {
   "cell_type": "markdown",
   "metadata": {},
   "source": [
    "## Navigation drawer"
   ]
  },
  {
   "cell_type": "code",
   "execution_count": 8,
   "metadata": {},
   "outputs": [],
   "source": [
    "js_items = '''[\n",
    "        { title: 'Dashboard', icon: 'mdi-view-dashboard' },\n",
    "        { title: 'Photos', icon: 'mdi-image' },\n",
    "        { title: 'About', icon: 'mdi-help-box' },\n",
    "      ]\n",
    "      '''"
   ]
  },
  {
   "cell_type": "code",
   "execution_count": 9,
   "metadata": {},
   "outputs": [
    {
     "data": {
      "application/vnd.jupyter.widget-view+json": {
       "model_id": "36d177739a85468b8e1a44f9902c6f3d",
       "version_major": 2,
       "version_minor": 0
      },
      "text/plain": [
       "MyNavigationDrawer(items=[{'title': 'Dashboard', 'icon': 'mdi-view-dashboard'}, {'title': 'Photos', 'icon': 'm…"
      ]
     },
     "metadata": {},
     "output_type": "display_data"
    }
   ],
   "source": [
    "py_items = demjson.decode(js_items)\n",
    "\n",
    "class MyNavigationDrawer(v.VuetifyTemplate):\n",
    "    items = List(py_items).tag(sync=True)\n",
    "    \n",
    "    template = Unicode('''\n",
    "     <v-card\n",
    "      height=\"400\"\n",
    "      width=\"256\"\n",
    "      class=\"mx-auto\"\n",
    "    >\n",
    "      <v-navigation-drawer permanent>\n",
    "        <v-list-item>\n",
    "          <v-list-item-content>\n",
    "            <v-list-item-title class=\"title\">\n",
    "              Application\n",
    "            </v-list-item-title>\n",
    "            <v-list-item-subtitle>\n",
    "              subtext\n",
    "            </v-list-item-subtitle>\n",
    "          </v-list-item-content>\n",
    "        </v-list-item>\n",
    "  \n",
    "        <v-divider></v-divider>\n",
    "  \n",
    "        <v-list\n",
    "          dense\n",
    "          nav\n",
    "        >\n",
    "          <v-list-item\n",
    "            v-for=\"item in items\"\n",
    "            :key=\"item.title\"\n",
    "            link\n",
    "          >\n",
    "            <v-list-item-icon>\n",
    "              <v-icon>{{ item.icon }}</v-icon>\n",
    "            </v-list-item-icon>\n",
    "  \n",
    "            <v-list-item-content>\n",
    "              <v-list-item-title>{{ item.title }}</v-list-item-title>\n",
    "            </v-list-item-content>\n",
    "          </v-list-item>\n",
    "        </v-list>\n",
    "      </v-navigation-drawer>\n",
    "    </v-card>\n",
    "    ''').tag(sync=True)\n",
    "\n",
    "navigation_drawer = MyNavigationDrawer()\n",
    "navigation_drawer"
   ]
  },
  {
   "cell_type": "code",
   "execution_count": 10,
   "metadata": {},
   "outputs": [
    {
     "data": {
      "application/vnd.jupyter.widget-view+json": {
       "model_id": "17b11d51d8db49a8b30587d689a4bb4f",
       "version_major": 2,
       "version_minor": 0
      },
      "text/plain": [
       "MyIcons(items=[{'title': 'Dashboard', 'icon': 'mdi-view-dashboard'}, {'title': 'Photos', 'icon': 'mdi-image'},…"
      ]
     },
     "metadata": {},
     "output_type": "display_data"
    }
   ],
   "source": [
    "class MyIcons(v.VuetifyTemplate):\n",
    "    items = List(py_items).tag(sync=True)\n",
    "    \n",
    "    template = Unicode('''\n",
    "\n",
    "<v-row justify=\"space-around\">\n",
    "      <v-icon>mdi-anchor</v-icon>\n",
    "  \n",
    "      <v-icon>mdi-xbox-controller</v-icon>\n",
    "  \n",
    "      <v-icon>mdi-watch</v-icon>\n",
    "  \n",
    "      <v-icon>mdi-tilde</v-icon>\n",
    "  \n",
    "      <v-icon>mdi-tennis</v-icon>\n",
    "  \n",
    "      <v-icon>mdi-mouse</v-icon>\n",
    "    </v-row>\n",
    "    \n",
    "        ''').tag(sync=True)\n",
    "icons = MyIcons()\n",
    "icons"
   ]
  },
  {
   "cell_type": "markdown",
   "metadata": {},
   "source": [
    "## Footer"
   ]
  },
  {
   "cell_type": "code",
   "execution_count": 11,
   "metadata": {},
   "outputs": [],
   "source": [
    "js_icons = '''[\n",
    "      'mdi-home',\n",
    "      'mdi-email',\n",
    "      'mdi-calendar',\n",
    "      'mdi-delete',\n",
    "    ]'''\n",
    "\n",
    "py_icons = demjson.decode(js_icons)\n"
   ]
  },
  {
   "cell_type": "code",
   "execution_count": 12,
   "metadata": {},
   "outputs": [
    {
     "data": {
      "application/vnd.jupyter.widget-view+json": {
       "model_id": "e768400bcadb4ab1a7aca5669ea97f38",
       "version_major": 2,
       "version_minor": 0
      },
      "text/plain": [
       "MyFooter(icons=['mdi-home', 'mdi-email', 'mdi-calendar', 'mdi-delete'])"
      ]
     },
     "metadata": {},
     "output_type": "display_data"
    }
   ],
   "source": [
    "class MyFooter(v.VuetifyTemplate):\n",
    "    icons = List(py_icons).tag(sync=True)\n",
    "    padless = Bool(False).tag(sync=True)\n",
    "    \n",
    "    template = Unicode('''\n",
    "\n",
    "      <v-footer\n",
    "        :padless=\"padless\"\n",
    "      >\n",
    "        <v-card\n",
    "          flat\n",
    "          tile\n",
    "          width=\"100%\"\n",
    "          class=\"red lighten-1 text-center\"\n",
    "        >\n",
    "          <v-card-text>\n",
    "            <v-btn\n",
    "              v-for=\"icon in icons\"\n",
    "              :key=\"icon\"\n",
    "              class=\"mx-4\"\n",
    "              icon\n",
    "            >\n",
    "              <v-icon size=\"24px\">{{ icon }}</v-icon>\n",
    "            </v-btn>\n",
    "          </v-card-text>\n",
    "  \n",
    "          <v-divider></v-divider>\n",
    "  \n",
    "          <v-card-text class=\"white--text\">\n",
    "            {{ new Date().getFullYear() }} — <strong>Vuetify</strong>\n",
    "          </v-card-text>\n",
    "        </v-card>\n",
    "      </v-footer>\n",
    "  \n",
    "\n",
    "        ''').tag(sync=True)\n",
    "footer = MyFooter()\n",
    "footer"
   ]
  },
  {
   "cell_type": "markdown",
   "metadata": {},
   "source": [
    "## Expansion panels"
   ]
  },
  {
   "cell_type": "code",
   "execution_count": 13,
   "metadata": {},
   "outputs": [
    {
     "data": {
      "application/vnd.jupyter.widget-view+json": {
       "model_id": "c054a790d9414dfa8216549214cf21a5",
       "version_major": 2,
       "version_minor": 0
      },
      "text/plain": [
       "MyPanel(events=['all', 'none'])"
      ]
     },
     "metadata": {},
     "output_type": "display_data"
    }
   ],
   "source": [
    "class MyPanel(v.VuetifyTemplate):\n",
    "    panel = List([]).tag(sync=True)\n",
    "    items = Int(5).tag(sync=True)\n",
    "    \n",
    "    template = Unicode('''\n",
    "        <v-app id=\"inspire\">\n",
    "            <div>\n",
    "\n",
    "              <div class=\"text-center d-flex pb-4\">\n",
    "                <v-btn @click=\"all\">all</v-btn>\n",
    "                <div>{{ panel }}</div>\n",
    "                <v-btn @click=\"none\">none</v-btn>\n",
    "              </div>\n",
    "              \n",
    "              <v-expansion-panels\n",
    "                v-model=\"panel\"\n",
    "                multiple\n",
    "              >\n",
    "                <v-expansion-panel\n",
    "                  v-for=\"(item,i) in items\"\n",
    "                  :key=\"i\"\n",
    "                >\n",
    "                  <v-expansion-panel-header>Header {{ item }}</v-expansion-panel-header>\n",
    "                  <v-expansion-panel-content>\n",
    "                    Lorem ipsum dolor sit amet, consectetur adipiscing elit, sed do eiusmod tempor incididunt ut labore et dolore magna aliqua. Ut enim ad minim veniam, quis nostrud exercitation ullamco laboris nisi ut aliquip ex ea commodo consequat.\n",
    "                  </v-expansion-panel-content>\n",
    "                </v-expansion-panel>\n",
    "              </v-expansion-panels>\n",
    "            </div>\n",
    "          </v-app>\n",
    "          ''').tag(sync=True)\n",
    "    \n",
    "    def vue_all(self, data):\n",
    "        self.panel = list(range(self.items))\n",
    "        \n",
    "    def vue_none(self, data):\n",
    "        self.panel = []\n",
    "    \n",
    "panel_simple = MyPanel()\n",
    "panel_simple"
   ]
  },
  {
   "cell_type": "code",
   "execution_count": 14,
   "metadata": {},
   "outputs": [],
   "source": [
    "trip = {\n",
    "      'name': '',\n",
    "      'location': None,\n",
    "      'start': None,\n",
    "      'end': None,\n",
    "    }"
   ]
  },
  {
   "cell_type": "code",
   "execution_count": 15,
   "metadata": {},
   "outputs": [
    {
     "data": {
      "application/vnd.jupyter.widget-view+json": {
       "model_id": "a23e7aeef6fb4c6aab54ffeffc0c7a3b",
       "version_major": 2,
       "version_minor": 0
      },
      "text/plain": [
       "MyPanelComplex(locations=['Australia', 'Barbados', 'Chile', 'Denmark', 'Equador', 'France'], trip={'name': '',…"
      ]
     },
     "metadata": {},
     "output_type": "display_data"
    }
   ],
   "source": [
    "# Not synchronizing dict entries\n",
    "\n",
    "class MyPanelComplex(v.VuetifyTemplate):\n",
    "    date = Any(None, allow_none=True).tag(sync=True)\n",
    "    trip = Dict(trip).tag(sync=True)\n",
    "    locations= List(['Australia', 'Barbados', 'Chile', 'Denmark', 'Equador', 'France']).tag(sync=True)\n",
    " \n",
    "    \n",
    "    template = Unicode('''\n",
    "\n",
    "<v-expansion-panels>\n",
    "      <v-expansion-panel>\n",
    "        <v-expansion-panel-header>\n",
    "          <template v-slot:default=\"{ open }\">\n",
    "            <v-row no-gutters>\n",
    "              <v-col cols=\"4\">Trip name</v-col>\n",
    "              <v-col\n",
    "                cols=\"8\"\n",
    "                class=\"text--secondary\"\n",
    "              >\n",
    "                <v-fade-transition leave-absolute>\n",
    "                  <span\n",
    "                    v-if=\"open\"\n",
    "                    key=\"0\"\n",
    "                  >\n",
    "                    Enter a name for the trip\n",
    "                  </span>\n",
    "                  <span\n",
    "                    v-else\n",
    "                    key=\"1\"\n",
    "                  >\n",
    "                    {{ trip.name }}\n",
    "                  </span>\n",
    "                </v-fade-transition>\n",
    "              </v-col>\n",
    "            </v-row>\n",
    "          </template>\n",
    "        </v-expansion-panel-header>\n",
    "        <v-expansion-panel-content>\n",
    "          <v-text-field\n",
    "            v-model=\"trip.name\"\n",
    "            placeholder=\"Caribbean Cruise\"\n",
    "          ></v-text-field>\n",
    "        </v-expansion-panel-content>\n",
    "      </v-expansion-panel>\n",
    "  \n",
    "      <v-expansion-panel>\n",
    "        <v-expansion-panel-header v-slot=\"{ open }\">\n",
    "          <v-row no-gutters>\n",
    "            <v-col cols=\"4\">Location</v-col>\n",
    "            <v-col\n",
    "              cols=\"8\"\n",
    "              class=\"text--secondary\"\n",
    "            >\n",
    "              <v-fade-transition leave-absolute>\n",
    "                <span\n",
    "                  v-if=\"open\"\n",
    "                  key=\"0\"\n",
    "                >\n",
    "                  Select trip destination\n",
    "                </span>\n",
    "                <span\n",
    "                  v-else\n",
    "                  key=\"1\"\n",
    "                >\n",
    "                  {{ trip.location }}\n",
    "                </span>\n",
    "              </v-fade-transition>\n",
    "            </v-col>\n",
    "          </v-row>\n",
    "        </v-expansion-panel-header>\n",
    "        <v-expansion-panel-content>\n",
    "          <v-row no-gutters>\n",
    "            <div class=\"flex-grow-1\"></div>\n",
    "            <v-col cols=\"5\">\n",
    "              <v-select\n",
    "                v-model=\"trip.location\"\n",
    "                :items=\"locations\"\n",
    "                chips\n",
    "                flat\n",
    "                solo\n",
    "              ></v-select>\n",
    "            </v-col>\n",
    "  \n",
    "            <v-divider\n",
    "              vertical\n",
    "              class=\"mx-4\"\n",
    "            ></v-divider>\n",
    "  \n",
    "            <v-col cols=\"3\">\n",
    "              Select your destination of choice\n",
    "              <br>\n",
    "              <a href=\"javascript:void(0)\">Learn more</a>\n",
    "            </v-col>\n",
    "          </v-row>\n",
    "  \n",
    "          <v-card-actions>\n",
    "            <div class=\"flex-grow-1\"></div>\n",
    "            <v-btn\n",
    "              text\n",
    "              color=\"secondary\"\n",
    "            >\n",
    "              Cancel\n",
    "            </v-btn>\n",
    "            <v-btn\n",
    "              text\n",
    "              color=\"primary\"\n",
    "            >\n",
    "              Save\n",
    "            </v-btn>\n",
    "          </v-card-actions>\n",
    "        </v-expansion-panel-content>\n",
    "      </v-expansion-panel>\n",
    "  \n",
    "      <v-expansion-panel>\n",
    "        <v-expansion-panel-header v-slot=\"{ open }\">\n",
    "          <v-row no-gutters>\n",
    "            <v-col cols=\"4\">Start and end dates</v-col>\n",
    "            <v-col\n",
    "              cols=\"8\"\n",
    "              class=\"text--secondary\"\n",
    "            >\n",
    "              <v-fade-transition leave-absolute>\n",
    "                <span v-if=\"open\">When do you want to travel?</span>\n",
    "                <v-row\n",
    "                  v-else\n",
    "                  no-gutters\n",
    "                  style=\"width: 100%\"\n",
    "                >\n",
    "                  <v-col cols=\"6\">Start date: {{ trip.start || 'Not set' }}</v-col>\n",
    "                  <v-col cols=\"6\">End date: {{ trip.end || 'Not set' }}</v-col>\n",
    "                </v-row>\n",
    "              </v-fade-transition>\n",
    "            </v-col>\n",
    "          </v-row>\n",
    "        </v-expansion-panel-header>\n",
    "        <v-expansion-panel-content>\n",
    "          <v-row\n",
    "            justify=\"space-around\"\n",
    "            no-gutters\n",
    "          >\n",
    "            <v-col cols=\"3\">\n",
    "              <v-menu\n",
    "                ref=\"startMenu\"\n",
    "                :close-on-content-click=\"false\"\n",
    "                :return-value.sync=\"trip.start\"\n",
    "                offset-y\n",
    "                min-width=\"290px\"\n",
    "              >\n",
    "                <template v-slot:activator=\"{ on }\">\n",
    "                  <v-text-field\n",
    "                    v-model=\"trip.start\"\n",
    "                    label=\"Start date\"\n",
    "                    prepend-icon=\"event\"\n",
    "                    readonly\n",
    "                    v-on=\"on\"\n",
    "                  ></v-text-field>\n",
    "                </template>\n",
    "                <v-date-picker\n",
    "                  v-model=\"date\"\n",
    "                  no-title\n",
    "                  scrollable\n",
    "                >\n",
    "                  <div class=\"flex-grow-1\"></div>\n",
    "                  <v-btn\n",
    "                    text\n",
    "                    color=\"primary\"\n",
    "                    @click=\"$refs.startMenu.isActive = false\"\n",
    "                  >Cancel</v-btn>\n",
    "                  <v-btn\n",
    "                    text\n",
    "                    color=\"primary\"\n",
    "                    @click=\"$refs.startMenu.save(date)\"\n",
    "                  >OK</v-btn>\n",
    "                </v-date-picker>\n",
    "              </v-menu>\n",
    "            </v-col>\n",
    "  \n",
    "            <v-col cols=\"3\">\n",
    "              <v-menu\n",
    "                ref=\"endMenu\"\n",
    "                :close-on-content-click=\"false\"\n",
    "                :return-value.sync=\"trip.end\"\n",
    "                offset-y\n",
    "                min-width=\"290px\"\n",
    "              >\n",
    "                <template v-slot:activator=\"{ on }\">\n",
    "                  <v-text-field\n",
    "                    v-model=\"trip.end\"\n",
    "                    label=\"End date\"\n",
    "                    prepend-icon=\"event\"\n",
    "                    readonly\n",
    "                    v-on=\"on\"\n",
    "                  ></v-text-field>\n",
    "                </template>\n",
    "                <v-date-picker\n",
    "                  v-model=\"date\"\n",
    "                  no-title\n",
    "                  scrollable\n",
    "                >\n",
    "                  <div class=\"flex-grow-1\"></div>\n",
    "                  <v-btn\n",
    "                    text\n",
    "                    color=\"primary\"\n",
    "                    @click=\"$refs.endMenu.isActive = false\"\n",
    "                  >\n",
    "                    Cancel\n",
    "                  </v-btn>\n",
    "                  <v-btn\n",
    "                    text\n",
    "                    color=\"primary\"\n",
    "                    @click=\"$refs.endMenu.save(date)\"\n",
    "                  >\n",
    "                    OK\n",
    "                  </v-btn>\n",
    "                </v-date-picker>\n",
    "              </v-menu>\n",
    "            </v-col>\n",
    "          </v-row>\n",
    "        </v-expansion-panel-content>\n",
    "      </v-expansion-panel>\n",
    "    </v-expansion-panels>\n",
    "          ''').tag(sync=True)\n",
    "    \n",
    "panel_complex = MyPanelComplex()\n",
    "panel_complex"
   ]
  },
  {
   "cell_type": "markdown",
   "metadata": {},
   "source": [
    "## Carousels"
   ]
  },
  {
   "cell_type": "code",
   "execution_count": 16,
   "metadata": {},
   "outputs": [
    {
     "data": {
      "application/vnd.jupyter.widget-view+json": {
       "model_id": "01ff0f202c344e509b5665429278c7d5",
       "version_major": 2,
       "version_minor": 0
      },
      "text/plain": [
       "MyCarousel(colors=['primary', 'secondary', 'yellow darken-2', 'red', 'orange'])"
      ]
     },
     "metadata": {},
     "output_type": "display_data"
    }
   ],
   "source": [
    "class MyCarousel(v.VuetifyTemplate):\n",
    "    colors = List( ['primary',\n",
    "        'secondary',\n",
    "        'yellow darken-2',\n",
    "        'red',\n",
    "        'orange']).tag(sync=True)\n",
    "    \n",
    "    template = Unicode('''\n",
    "    <v-carousel>\n",
    "      <v-carousel-item\n",
    "        v-for=\"(color, i) in colors\"\n",
    "        :key=\"color\"\n",
    "      >\n",
    "        <v-sheet\n",
    "          :color=\"color\"\n",
    "          height=\"100%\"\n",
    "          tile\n",
    "        >\n",
    "          <v-row\n",
    "            class=\"fill-height\"\n",
    "            align=\"center\"\n",
    "            justify=\"center\"\n",
    "          >\n",
    "            <div class=\"display-3\">Slide {{ i + 1 }}</div>\n",
    "          </v-row>\n",
    "        </v-sheet>\n",
    "      </v-carousel-item>\n",
    "    </v-carousel>\n",
    "              ''').tag(sync=True)\n",
    "    \n",
    "carousel = MyCarousel()\n",
    "carousel"
   ]
  },
  {
   "cell_type": "markdown",
   "metadata": {},
   "source": [
    "## Avatar"
   ]
  },
  {
   "cell_type": "code",
   "execution_count": 17,
   "metadata": {},
   "outputs": [
    {
     "data": {
      "application/vnd.jupyter.widget-view+json": {
       "model_id": "aadc2e3e7ea044a58bdeb64ea27a309b",
       "version_major": 2,
       "version_minor": 0
      },
      "text/plain": [
       "MyAvatarCard()"
      ]
     },
     "metadata": {},
     "output_type": "display_data"
    }
   ],
   "source": [
    "class MyAvatarCard(v.VuetifyTemplate):\n",
    "\n",
    "    template = Unicode('''\n",
    "    <v-card\n",
    "      class=\"mx-auto\"\n",
    "      max-width=\"434\"\n",
    "      tile\n",
    "    >\n",
    "      <v-img\n",
    "        height=\"100%\"\n",
    "        src=\"https://cdn.vuetifyjs.com/images/cards/server-room.jpg\"\n",
    "      >\n",
    "        <v-row\n",
    "          align=\"end\"\n",
    "          class=\"fill-height\"\n",
    "        >\n",
    "          <v-col\n",
    "            align-self=\"start\"\n",
    "            class=\"pa-0\"\n",
    "            cols=\"12\"\n",
    "          >\n",
    "            <v-avatar\n",
    "              class=\"profile\"\n",
    "              color=\"grey\"\n",
    "              size=\"164\"\n",
    "              tile\n",
    "            >\n",
    "              <v-img src=\"https://cdn.vuetifyjs.com/images/profiles/marcus.jpg\"></v-img>\n",
    "            </v-avatar>\n",
    "          </v-col>\n",
    "          <v-col class=\"py-0\">\n",
    "            <v-list-item\n",
    "              color=\"rgba(0, 0, 0, .4)\"\n",
    "              dark\n",
    "            >\n",
    "              <v-list-item-content>\n",
    "                <v-list-item-title class=\"title\">Marcus Obrien</v-list-item-title>\n",
    "                <v-list-item-subtitle>Network Engineer</v-list-item-subtitle>\n",
    "              </v-list-item-content>\n",
    "            </v-list-item>\n",
    "          </v-col>\n",
    "        </v-row>\n",
    "      </v-img>\n",
    "    </v-card>\n",
    "      ''').tag(sync=True)\n",
    "    \n",
    "MyAvatarCard()"
   ]
  },
  {
   "cell_type": "markdown",
   "metadata": {},
   "source": [
    "## Avatar - complex"
   ]
  },
  {
   "cell_type": "code",
   "execution_count": 18,
   "metadata": {},
   "outputs": [],
   "source": [
    "js_messages = '''[\n",
    "      {\n",
    "        avatar: 'https://avatars0.githubusercontent.com/u/9064066?v=4&s=460',\n",
    "        name: 'John Leider',\n",
    "        title: 'Welcome to Vuetify.js!',\n",
    "        excerpt: 'Thank you for joining our community...',\n",
    "      },\n",
    "      {\n",
    "        color: 'red',\n",
    "        icon: 'people',\n",
    "        name: 'Social',\n",
    "        new: 1,\n",
    "        total: 3,\n",
    "        title: 'Twitter',\n",
    "      },\n",
    "      {\n",
    "        color: 'teal',\n",
    "        icon: 'local_offer',\n",
    "        name: 'Promos',\n",
    "        new: 2,\n",
    "        total: 4,\n",
    "        title: 'Shop your way',\n",
    "        exceprt: 'New deals available, Join Today',\n",
    "      },\n",
    "    ]'''"
   ]
  },
  {
   "cell_type": "code",
   "execution_count": 19,
   "metadata": {},
   "outputs": [
    {
     "data": {
      "application/vnd.jupyter.widget-view+json": {
       "model_id": "cb69eb323c3f43909ca6b180b9b7376c",
       "version_major": 2,
       "version_minor": 0
      },
      "text/plain": [
       "MyAvatarComplex(messages=[{'avatar': 'https://avatars0.githubusercontent.com/u/9064066?v=4&s=460', 'name': 'Jo…"
      ]
     },
     "metadata": {},
     "output_type": "display_data"
    }
   ],
   "source": [
    "py_messages = demjson.decode(js_messages)\n",
    "\n",
    "class MyAvatarComplex(v.VuetifyTemplate):\n",
    "    messages = List(py_messages).tag(sync=True)\n",
    "    lorem = Unicode('''\n",
    "     'Lorem ipsum dolor sit amet, at aliquam vivendum vel, \n",
    "     everti delicatissimi cu eos. Dico iuvaret debitis mel an, \n",
    "     et cum zril menandri. Eum in consul legimus accusam. \n",
    "     Ea dico abhorreant duo, quo illum minimum incorrupte no, \n",
    "     nostro voluptaria sea eu. Suas eligendi ius at, at nemore \n",
    "     equidem est. Sed in error hendrerit, in consul constituam cum.'\n",
    "    ''').tag(sync=True)\n",
    "\n",
    "    template = Unicode('''\n",
    "        <v-container fluid>\n",
    "      <v-row justify=\"center\">\n",
    "        <v-subheader>Today</v-subheader>\n",
    "  \n",
    "        <v-expansion-panels popout>\n",
    "          <v-expansion-panel\n",
    "            v-for=\"(message, i) in messages\"\n",
    "            :key=\"i\"\n",
    "            hide-actions\n",
    "          >\n",
    "            <v-expansion-panel-header>\n",
    "              <v-row\n",
    "                align=\"center\"\n",
    "                class=\"spacer\"\n",
    "                no-gutters\n",
    "              >\n",
    "                <v-col\n",
    "                  cols=\"4\"\n",
    "                  sm=\"2\"\n",
    "                  md=\"1\"\n",
    "                >\n",
    "                  <v-avatar\n",
    "                    size=\"36px\"\n",
    "                  >\n",
    "                    <img\n",
    "                      v-if=\"message.avatar\"\n",
    "                      alt=\"Avatar\"\n",
    "                      src=\"https://avatars0.githubusercontent.com/u/9064066?v=4&s=460\"\n",
    "                    >\n",
    "                    <v-icon\n",
    "                      v-else\n",
    "                      :color=\"message.color\"\n",
    "                      v-text=\"message.icon\"\n",
    "                    ></v-icon>\n",
    "                  </v-avatar>\n",
    "                </v-col>\n",
    "  \n",
    "                <v-col\n",
    "                  class=\"hidden-xs-only\"\n",
    "                  sm=\"5\"\n",
    "                  md=\"3\"\n",
    "                >\n",
    "                  <strong v-html=\"message.name\"></strong>\n",
    "                  <span\n",
    "                    v-if=\"message.total\"\n",
    "                    class=\"grey--text\"\n",
    "                  >\n",
    "                    &nbsp;({{ message.total }})\n",
    "                  </span>\n",
    "                </v-col>\n",
    "  \n",
    "                <v-col\n",
    "                  class=\"text-no-wrap\"\n",
    "                  cols=\"5\"\n",
    "                  sm=\"3\"\n",
    "                >\n",
    "                  <v-chip\n",
    "                    v-if=\"message.new\"\n",
    "                    :color=\"`${message.color} lighten-4`\"\n",
    "                    class=\"ml-0\"\n",
    "                    label\n",
    "                    small\n",
    "                  >\n",
    "                    {{ message.new }} new\n",
    "                  </v-chip>\n",
    "                  <strong v-html=\"message.title\"></strong>\n",
    "                </v-col>\n",
    "  \n",
    "                <v-col\n",
    "                  v-if=\"message.excerpt\"\n",
    "                  class=\"grey--text text-truncate hidden-sm-and-down\"\n",
    "                >\n",
    "                  &mdash;\n",
    "                  {{ message.excerpt }}\n",
    "                </v-col>\n",
    "              </v-row>\n",
    "            </v-expansion-panel-header>\n",
    "  \n",
    "            <v-expansion-panel-content>\n",
    "              <v-divider></v-divider>\n",
    "              <v-card-text v-text=\"lorem\"></v-card-text>\n",
    "            </v-expansion-panel-content>\n",
    "          </v-expansion-panel>\n",
    "        </v-expansion-panels>\n",
    "      </v-row>\n",
    "    </v-container>\n",
    "    \n",
    "      ''').tag(sync=True)\n",
    "    \n",
    "avatar = MyAvatarComplex()\n",
    "avatar"
   ]
  },
  {
   "cell_type": "markdown",
   "metadata": {},
   "source": [
    "## Banner"
   ]
  },
  {
   "cell_type": "code",
   "execution_count": 20,
   "metadata": {},
   "outputs": [
    {
     "data": {
      "application/vnd.jupyter.widget-view+json": {
       "model_id": "3ab2b2fde84c417fae627f42f4812338",
       "version_major": 2,
       "version_minor": 0
      },
      "text/plain": [
       "Banner(children=['One line message text string with two actions on tablet / Desktop'], single_line=True, v_slo…"
      ]
     },
     "metadata": {},
     "output_type": "display_data"
    }
   ],
   "source": [
    "banner = v.Banner(single_line=True,\n",
    "    v_slots=[{\n",
    "        'name': 'icon',\n",
    "        'children': v.Icon(children=['thumb_up'])\n",
    "    }, {\n",
    "        'name': 'actions',\n",
    "        'children': v.Btn(text=True, color='deep-purple accent-4', children=['Action'])\n",
    "    }], \n",
    "    children=['One line message text string with two actions on tablet / Desktop'])\n",
    "\n",
    "banner"
   ]
  },
  {
   "cell_type": "markdown",
   "metadata": {},
   "source": [
    "# Content component"
   ]
  },
  {
   "cell_type": "code",
   "execution_count": 21,
   "metadata": {},
   "outputs": [
    {
     "data": {
      "application/vnd.jupyter.widget-view+json": {
       "model_id": "1848e9c5f7f04a9c97dbb2942341f009",
       "version_major": 2,
       "version_minor": 0
      },
      "text/plain": [
       "Container(children=[MyDataTable(desserts=[{'name': 'Frozen Yogurt', 'calories': 159, 'fat': 6.0, 'carbs': 24, …"
      ]
     },
     "metadata": {},
     "output_type": "display_data"
    }
   ],
   "source": [
    "container_main = v.Container(\n",
    "    _metadata={'mount_id': 'content-main'}, \n",
    "    children=[\n",
    "        dataTable\n",
    "    ]\n",
    ")\n",
    "container_main"
   ]
  },
  {
   "cell_type": "markdown",
   "metadata": {},
   "source": [
    "# Navigation component"
   ]
  },
  {
   "cell_type": "code",
   "execution_count": 22,
   "metadata": {},
   "outputs": [
    {
     "data": {
      "application/vnd.jupyter.widget-view+json": {
       "model_id": "e4f15cca04d040cd87f1f85f1c311652",
       "version_major": 2,
       "version_minor": 0
      },
      "text/plain": [
       "Container(children=[MyNavigation(events=['item_click'], items=[{'title': 'DataTable', 'icon': 'mdi-view-dashbo…"
      ]
     },
     "metadata": {},
     "output_type": "display_data"
    }
   ],
   "source": [
    "components_map = {\n",
    "    'DataTable': dataTable,\n",
    "    'Timeline': timeline,\n",
    "    # 'Treeview': treeview,\n",
    "    'Navigation Drawer': navigation_drawer,\n",
    "    'Icons': icons,\n",
    "    'Footer': footer,\n",
    "    'Expansion Panel': panel_simple,\n",
    "    'Expansion Panel Complex': panel_complex,\n",
    "    'Carousel': carousel,\n",
    "    'Avatar': avatar,\n",
    "    'Banner': banner\n",
    "}\n",
    "\n",
    "py_items = [\n",
    "        { 'title': 'DataTable', 'icon': 'mdi-view-dashboard'},\n",
    "        { 'title': 'Timeline', 'icon': 'mdi-image'},\n",
    "        # { 'title': 'Treeview', 'icon': 'mdi-help-box'},\n",
    "        { 'title': 'Navigation Drawer', 'icon': 'mdi-view-dashboard'},\n",
    "        { 'title': 'Icons', 'icon': 'mdi-image'},\n",
    "        { 'title': 'Footer', 'icon': 'mdi-help-box'},\n",
    "        { 'title': 'Expansion Panel', 'icon': 'mdi-view-dashboard'},\n",
    "        { 'title': 'Expansion Panel Complex', 'icon': 'mdi-image'},\n",
    "        { 'title': 'Carousel', 'icon': 'mdi-help-box'},\n",
    "        { 'title': 'Avatar', 'icon': 'mdi-view-dashboard'},\n",
    "        { 'title': 'Banner', 'icon': 'mdi-image'},\n",
    "      ]\n",
    "      \n",
    "class MyNavigation(v.VuetifyTemplate):\n",
    "    items = List(py_items).tag(sync=True)\n",
    "    \n",
    "    template = Unicode('''  \n",
    "        <v-list\n",
    "          dense\n",
    "          nav\n",
    "        >\n",
    "          <v-list-item\n",
    "            v-for=\"item in items\"\n",
    "            :key=\"item.title\"\n",
    "            link\n",
    "            @click=\"item_click(item)\"\n",
    "          >\n",
    "            <v-list-item-icon>\n",
    "              <v-icon>{{ item.icon }}</v-icon>\n",
    "            </v-list-item-icon>\n",
    "  \n",
    "            <v-list-item-content>\n",
    "              <v-list-item-title>{{ item.title }}</v-list-item-title>\n",
    "            </v-list-item-content>\n",
    "          </v-list-item>\n",
    "        </v-list>\n",
    "    ''').tag(sync=True)\n",
    "    \n",
    "    def vue_item_click(self, data):\n",
    "        component = components_map[data['title']]\n",
    "        container_main.children = [component]\n",
    "\n",
    "navigation = MyNavigation()\n",
    "\n",
    "container_nav = v.Container(\n",
    "    _metadata={'mount_id': 'content-nav'}, \n",
    "    children=[\n",
    "        navigation\n",
    "    ]\n",
    ")\n",
    "container_nav"
   ]
  },
  {
   "cell_type": "code",
   "execution_count": 23,
   "metadata": {},
   "outputs": [
    {
     "data": {
      "application/vnd.jupyter.widget-view+json": {
       "model_id": "1848e9c5f7f04a9c97dbb2942341f009",
       "version_major": 2,
       "version_minor": 0
      },
      "text/plain": [
       "Container(children=[MyDataTable(desserts=[{'name': 'Frozen Yogurt', 'calories': 159, 'fat': 6.0, 'carbs': 24, …"
      ]
     },
     "metadata": {},
     "output_type": "display_data"
    }
   ],
   "source": [
    "# Check if it is working\n",
    "container_main"
   ]
  },
  {
   "cell_type": "code",
   "execution_count": null,
   "metadata": {},
   "outputs": [],
   "source": []
  }
 ],
 "metadata": {
  "hide_input": false,
  "kernelspec": {
   "display_name": "Python 3",
   "language": "python",
   "name": "python3"
  },
  "language_info": {
   "codemirror_mode": {
    "name": "ipython",
    "version": 3
   },
   "file_extension": ".py",
   "mimetype": "text/x-python",
   "name": "python",
   "nbconvert_exporter": "python",
   "pygments_lexer": "ipython3",
   "version": "3.7.3"
  },
  "latex_envs": {
   "LaTeX_envs_menu_present": true,
   "autoclose": false,
   "autocomplete": true,
   "bibliofile": "biblio.bib",
   "cite_by": "apalike",
   "current_citInitial": 1,
   "eqLabelWithNumbers": true,
   "eqNumInitial": 1,
   "hotkeys": {
    "equation": "Ctrl-E",
    "itemize": "Ctrl-I"
   },
   "labels_anchors": false,
   "latex_user_defs": false,
   "report_style_numbering": false,
   "user_envs_cfg": false
  },
  "toc": {
   "base_numbering": 1,
   "nav_menu": {},
   "number_sections": true,
   "sideBar": true,
   "skip_h1_title": false,
   "title_cell": "Table of Contents",
   "title_sidebar": "Contents",
   "toc_cell": false,
   "toc_position": {},
   "toc_section_display": true,
   "toc_window_display": true
  },
  "varInspector": {
   "cols": {
    "lenName": 16,
    "lenType": 16,
    "lenVar": 40
   },
   "kernels_config": {
    "python": {
     "delete_cmd_postfix": "",
     "delete_cmd_prefix": "del ",
     "library": "var_list.py",
     "varRefreshCmd": "print(var_dic_list())"
    },
    "r": {
     "delete_cmd_postfix": ") ",
     "delete_cmd_prefix": "rm(",
     "library": "var_list.r",
     "varRefreshCmd": "cat(var_dic_list()) "
    }
   },
   "types_to_exclude": [
    "module",
    "function",
    "builtin_function_or_method",
    "instance",
    "_Feature"
   ],
   "window_display": false
  },
  "widgets": {
   "application/vnd.jupyter.widget-state+json": {
    "state": {
     "04d900c35c79407e8f9f57c71a3ad338": {
      "model_module": "bqplot",
      "model_module_version": "^0.3.0",
      "model_name": "AxisModel",
      "state": {
       "_model_module_version": "^0.3.0",
       "_view_module_version": "^0.3.0",
       "scale": "IPY_MODEL_80b4dfd4d32e46058d615a19c8ba4226",
       "side": "bottom",
       "tick_values": {
        "type": null,
        "values": null
       }
      }
     },
     "0622ba0d24e94ed4ba3aaab8df39c611": {
      "model_module": "@jupyter-widgets/base",
      "model_module_version": "1.0.0",
      "model_name": "LayoutModel",
      "state": {}
     },
     "0d3e5819043a4b378d3af13648d5b3b4": {
      "model_module": "@jupyter-widgets/base",
      "model_module_version": "1.0.0",
      "model_name": "LayoutModel",
      "state": {
       "min_width": "125px"
      }
     },
     "1ec882db9cb841fb87f907d09cad0480": {
      "model_module": "bqplot",
      "model_module_version": "^0.3.0",
      "model_name": "LinearScaleModel",
      "state": {
       "_model_module_version": "^0.3.0",
       "_view_module_version": "^0.3.0",
       "allow_padding": false,
       "max": 1,
       "min": 0,
       "stabilized": false
      }
     },
     "203eb5a03efa4105adfd9b853ac49b7b": {
      "model_module": "@jupyter-widgets/base",
      "model_module_version": "1.0.0",
      "model_name": "LayoutModel",
      "state": {}
     },
     "32d48656fa234d86a504e3c01daa2a5c": {
      "model_module": "@jupyter-widgets/controls",
      "model_module_version": "1.0.0",
      "model_name": "ImageModel",
      "state": {
       "layout": "IPY_MODEL_b72fbd0d6a36449e8691540541a6d00b",
       "value": {}
      }
     },
     "3375f88558044daba7af8850d3f7d76e": {
      "model_module": "@jupyter-widgets/base",
      "model_module_version": "1.0.0",
      "model_name": "LayoutModel",
      "state": {
       "min_width": "125px"
      }
     },
     "3dbaf85a158048bb8afab96efcd647dd": {
      "model_module": "bqplot",
      "model_module_version": "^0.3.0",
      "model_name": "ToolbarModel",
      "state": {
       "_model_module_version": "^0.3.0",
       "_view_module_version": "^0.3.0",
       "figure": "IPY_MODEL_4e6331271a734ad3831edadd5c59efad",
       "layout": "IPY_MODEL_203eb5a03efa4105adfd9b853ac49b7b"
      }
     },
     "456831a0b1e84a8a8165dba766473edf": {
      "model_module": "bqplot",
      "model_module_version": "^0.3.0",
      "model_name": "LinearScaleModel",
      "state": {
       "_model_module_version": "^0.3.0",
       "_view_module_version": "^0.3.0",
       "max": 2,
       "min": -1,
       "stabilized": false
      }
     },
     "4db5e4b8cb6445dbb21323e987bd724d": {
      "model_module": "bqplot",
      "model_module_version": "^0.3.0",
      "model_name": "LinearScaleModel",
      "state": {
       "_model_module_version": "^0.3.0",
       "_view_module_version": "^0.3.0",
       "stabilized": false
      }
     },
     "4e6331271a734ad3831edadd5c59efad": {
      "model_module": "bqplot",
      "model_module_version": "^0.3.0",
      "model_name": "FigureModel",
      "state": {
       "_dom_classes": [],
       "_model_module_version": "^0.3.0",
       "_view_module_version": "^0.3.0",
       "axes": [
        "IPY_MODEL_ce3fef64c326403ba2d46dcc2ddb9c18",
        "IPY_MODEL_04d900c35c79407e8f9f57c71a3ad338"
       ],
       "layout": "IPY_MODEL_55514efc97d54c44974e0013a5f5cbc9",
       "marks": [
        "IPY_MODEL_f5ab5459a15d45debea50eb61d0687b8"
       ],
       "max_aspect_ratio": 6,
       "scale_x": "IPY_MODEL_e0aaf68043b742aa9f59eda5706cd6f7",
       "scale_y": "IPY_MODEL_b97d52c4b7f6463f8b4fbea61904a477"
      }
     },
     "51ee8a765fa4490693392782a05aeb28": {
      "model_module": "bqplot",
      "model_module_version": "^0.3.0",
      "model_name": "LinearScaleModel",
      "state": {
       "_model_module_version": "^0.3.0",
       "_view_module_version": "^0.3.0",
       "max": 2,
       "min": -0.5,
       "stabilized": false
      }
     },
     "55514efc97d54c44974e0013a5f5cbc9": {
      "model_module": "@jupyter-widgets/base",
      "model_module_version": "1.0.0",
      "model_name": "LayoutModel",
      "state": {
       "min_width": "125px"
      }
     },
     "5bdf5d8c9b0341c381f23de4283276fe": {
      "model_module": "bqplot",
      "model_module_version": "^0.3.0",
      "model_name": "FigureModel",
      "state": {
       "_dom_classes": [],
       "_model_module_version": "^0.3.0",
       "_view_module_version": "^0.3.0",
       "animation_duration": 1000,
       "axes": [
        "IPY_MODEL_d39498cdd2aa4cbb92d755f4d328d391",
        "IPY_MODEL_ca5e304f502441c6b80a3b3d05015a34"
       ],
       "layout": "IPY_MODEL_0d3e5819043a4b378d3af13648d5b3b4",
       "marks": [
        "IPY_MODEL_c8a4845b09b64b2482ef1f9f80ad1124",
        "IPY_MODEL_bb2c845b016f458ca3e6d2ce4edcc5ea"
       ],
       "max_aspect_ratio": 6,
       "padding_y": 0,
       "scale_x": "IPY_MODEL_e70a421702444d01ae2ae96b593d6872",
       "scale_y": "IPY_MODEL_f73f97656cff4b29a3ce2b0e1bad1dd8"
      }
     },
     "755fcbec00654317aa22d6da462e0c38": {
      "model_module": "bqplot",
      "model_module_version": "^0.3.0",
      "model_name": "FigureModel",
      "state": {
       "_dom_classes": [],
       "_model_module_version": "^0.3.0",
       "_view_module_version": "^0.3.0",
       "layout": "IPY_MODEL_3375f88558044daba7af8850d3f7d76e",
       "marks": [
        "IPY_MODEL_aaf364707416448aa4d8006ec663eeea"
       ],
       "max_aspect_ratio": 6,
       "padding_y": 0,
       "scale_x": "IPY_MODEL_e15f595de79249869d36f9da368d6166",
       "scale_y": "IPY_MODEL_1ec882db9cb841fb87f907d09cad0480",
       "title": "Trees"
      }
     },
     "75c841d62d024c6399b50950e30ccd55": {
      "model_module": "bqplot",
      "model_module_version": "^0.3.0",
      "model_name": "LinearScaleModel",
      "state": {
       "_model_module_version": "^0.3.0",
       "_view_module_version": "^0.3.0",
       "stabilized": false
      }
     },
     "80b4dfd4d32e46058d615a19c8ba4226": {
      "model_module": "bqplot",
      "model_module_version": "^0.3.0",
      "model_name": "LinearScaleModel",
      "state": {
       "_model_module_version": "^0.3.0",
       "_view_module_version": "^0.3.0",
       "stabilized": false
      }
     },
     "929323256cec4ef0abe15110e9cb76fa": {
      "model_module": "bqplot",
      "model_module_version": "^0.3.0",
      "model_name": "LinearScaleModel",
      "state": {
       "_model_module_version": "^0.3.0",
       "_view_module_version": "^0.3.0",
       "stabilized": false
      }
     },
     "aaf364707416448aa4d8006ec663eeea": {
      "model_module": "bqplot",
      "model_module_version": "^0.3.0",
      "model_name": "ImageModel",
      "state": {
       "_model_module_version": "^0.3.0",
       "_view_module_version": "^0.3.0",
       "display_legend": false,
       "image": "IPY_MODEL_bfe77423b216444e9ca904519b4c3a9c",
       "scales": {
        "x": "IPY_MODEL_75c841d62d024c6399b50950e30ccd55",
        "y": "IPY_MODEL_929323256cec4ef0abe15110e9cb76fa"
       },
       "selected": [],
       "x": {
        "type": "float",
        "values": [
         0,
         1
        ]
       },
       "y": {
        "type": "float",
        "values": [
         0,
         1
        ]
       }
      }
     },
     "b2b338531df545928f6f8ce701fbf132": {
      "model_module": "@jupyter-widgets/base",
      "model_module_version": "1.0.0",
      "model_name": "LayoutModel",
      "state": {}
     },
     "b72fbd0d6a36449e8691540541a6d00b": {
      "model_module": "@jupyter-widgets/base",
      "model_module_version": "1.0.0",
      "model_name": "LayoutModel",
      "state": {}
     },
     "b97d52c4b7f6463f8b4fbea61904a477": {
      "model_module": "bqplot",
      "model_module_version": "^0.3.0",
      "model_name": "LinearScaleModel",
      "state": {
       "_model_module_version": "^0.3.0",
       "_view_module_version": "^0.3.0",
       "allow_padding": false,
       "max": 1,
       "min": 0,
       "stabilized": false
      }
     },
     "bb2c845b016f458ca3e6d2ce4edcc5ea": {
      "model_module": "bqplot",
      "model_module_version": "^0.3.0",
      "model_name": "LinesModel",
      "state": {
       "_model_module_version": "^0.3.0",
       "_view_module_version": "^0.3.0",
       "color": {
        "type": null,
        "values": null
       },
       "colors": [
        "red"
       ],
       "display_legend": false,
       "fill_colors": [],
       "labels": [
        "C1"
       ],
       "scales": {
        "x": "IPY_MODEL_456831a0b1e84a8a8165dba766473edf",
        "y": "IPY_MODEL_51ee8a765fa4490693392782a05aeb28"
       },
       "selected": [],
       "x": {
        "type": "float",
        "values": [
         0,
         1,
         1,
         0,
         0
        ]
       },
       "y": {
        "type": "float",
        "values": [
         0,
         0,
         1,
         1,
         0
        ]
       }
      }
     },
     "bfe77423b216444e9ca904519b4c3a9c": {
      "model_module": "@jupyter-widgets/controls",
      "model_module_version": "1.0.0",
      "model_name": "ImageModel",
      "state": {
       "format": "jpg",
       "layout": "IPY_MODEL_b2b338531df545928f6f8ce701fbf132",
       "value": {}
      }
     },
     "c8a4845b09b64b2482ef1f9f80ad1124": {
      "model_module": "bqplot",
      "model_module_version": "^0.3.0",
      "model_name": "ImageModel",
      "state": {
       "_model_module_version": "^0.3.0",
       "_view_module_version": "^0.3.0",
       "display_legend": false,
       "image": "IPY_MODEL_bfe77423b216444e9ca904519b4c3a9c",
       "scales": {
        "x": "IPY_MODEL_456831a0b1e84a8a8165dba766473edf",
        "y": "IPY_MODEL_51ee8a765fa4490693392782a05aeb28"
       },
       "selected": [],
       "x": {
        "type": "float",
        "values": [
         -1,
         2
        ]
       },
       "y": {
        "type": "float",
        "values": [
         -0.5,
         2
        ]
       }
      }
     },
     "ca5e304f502441c6b80a3b3d05015a34": {
      "model_module": "bqplot",
      "model_module_version": "^0.3.0",
      "model_name": "AxisModel",
      "state": {
       "_model_module_version": "^0.3.0",
       "_view_module_version": "^0.3.0",
       "orientation": "vertical",
       "scale": "IPY_MODEL_51ee8a765fa4490693392782a05aeb28",
       "side": "left",
       "tick_values": {
        "type": null,
        "values": null
       }
      }
     },
     "ce3fef64c326403ba2d46dcc2ddb9c18": {
      "model_module": "bqplot",
      "model_module_version": "^0.3.0",
      "model_name": "AxisModel",
      "state": {
       "_model_module_version": "^0.3.0",
       "_view_module_version": "^0.3.0",
       "orientation": "vertical",
       "scale": "IPY_MODEL_4db5e4b8cb6445dbb21323e987bd724d",
       "side": "left",
       "tick_values": {
        "type": null,
        "values": null
       }
      }
     },
     "d39498cdd2aa4cbb92d755f4d328d391": {
      "model_module": "bqplot",
      "model_module_version": "^0.3.0",
      "model_name": "AxisModel",
      "state": {
       "_model_module_version": "^0.3.0",
       "_view_module_version": "^0.3.0",
       "scale": "IPY_MODEL_456831a0b1e84a8a8165dba766473edf",
       "side": "bottom",
       "tick_values": {
        "type": null,
        "values": null
       }
      }
     },
     "e0aaf68043b742aa9f59eda5706cd6f7": {
      "model_module": "bqplot",
      "model_module_version": "^0.3.0",
      "model_name": "LinearScaleModel",
      "state": {
       "_model_module_version": "^0.3.0",
       "_view_module_version": "^0.3.0",
       "allow_padding": false,
       "max": 1,
       "min": 0,
       "stabilized": false
      }
     },
     "e15f595de79249869d36f9da368d6166": {
      "model_module": "bqplot",
      "model_module_version": "^0.3.0",
      "model_name": "LinearScaleModel",
      "state": {
       "_model_module_version": "^0.3.0",
       "_view_module_version": "^0.3.0",
       "allow_padding": false,
       "max": 1,
       "min": 0,
       "stabilized": false
      }
     },
     "e70a421702444d01ae2ae96b593d6872": {
      "model_module": "bqplot",
      "model_module_version": "^0.3.0",
      "model_name": "LinearScaleModel",
      "state": {
       "_model_module_version": "^0.3.0",
       "_view_module_version": "^0.3.0",
       "allow_padding": false,
       "max": 1,
       "min": 0,
       "stabilized": false
      }
     },
     "f5ab5459a15d45debea50eb61d0687b8": {
      "model_module": "bqplot",
      "model_module_version": "^0.3.0",
      "model_name": "ImageModel",
      "state": {
       "_model_module_version": "^0.3.0",
       "_view_module_version": "^0.3.0",
       "display_legend": false,
       "image": "IPY_MODEL_32d48656fa234d86a504e3c01daa2a5c",
       "scales": {
        "x": "IPY_MODEL_80b4dfd4d32e46058d615a19c8ba4226",
        "y": "IPY_MODEL_4db5e4b8cb6445dbb21323e987bd724d"
       },
       "selected": [],
       "x": {
        "type": "float",
        "values": [
         0,
         1
        ]
       },
       "y": {
        "type": "float",
        "values": [
         0,
         1
        ]
       }
      }
     },
     "f73f97656cff4b29a3ce2b0e1bad1dd8": {
      "model_module": "bqplot",
      "model_module_version": "^0.3.0",
      "model_name": "LinearScaleModel",
      "state": {
       "_model_module_version": "^0.3.0",
       "_view_module_version": "^0.3.0",
       "allow_padding": false,
       "max": 1,
       "min": 0,
       "stabilized": false
      }
     },
     "f920e644b9f44e64b7c6e9f9d0509dca": {
      "model_module": "@jupyter-widgets/controls",
      "model_module_version": "1.0.0",
      "model_name": "VBoxModel",
      "state": {
       "children": [
        "IPY_MODEL_4e6331271a734ad3831edadd5c59efad",
        "IPY_MODEL_3dbaf85a158048bb8afab96efcd647dd"
       ],
       "layout": "IPY_MODEL_0622ba0d24e94ed4ba3aaab8df39c611"
      }
     }
    },
    "version_major": 2,
    "version_minor": 0
   }
  }
 },
 "nbformat": 4,
 "nbformat_minor": 2
}
