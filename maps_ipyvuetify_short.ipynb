{
 "cells": [
  {
   "cell_type": "markdown",
   "metadata": {},
   "source": [
    "## Maps UIs using IPyVuetify\n",
    "\n",
    "This is largely based on https://github.com/mariobuikhuizen/ipyvuetify/blob/master/examples/Examples.ipynb."
   ]
  },
  {
   "cell_type": "code",
   "execution_count": 1,
   "metadata": {},
   "outputs": [],
   "source": [
    "import ipyvuetify as v\n",
    "from ipyleaflet import Map"
   ]
  },
  {
   "cell_type": "code",
   "execution_count": 2,
   "metadata": {
    "scrolled": true
   },
   "outputs": [
    {
     "data": {
      "application/vnd.jupyter.widget-view+json": {
       "model_id": "2f911e7fad854d328a1cb5d310d5796b",
       "version_major": 2,
       "version_minor": 0
      },
      "text/plain": [
       "Tabs(children=[Tab(children=['Tab 1']), Tab(children=['Tab 2']), Tab(children=['Tab 3']), TabItem(children=[Ma…"
      ]
     },
     "metadata": {},
     "output_type": "display_data"
    }
   ],
   "source": [
    "tab_list = [v.Tab(children=['Tab ' + str(i)]) for i in range(1,4)]\n",
    "content_list = [v.TabItem(children=[Map(zoom=3)]) for i in range(1,4)] \n",
    "tabs = v.Tabs(\n",
    "    v_model=1, \n",
    "    children=tab_list + content_list)\n",
    "tabs"
   ]
  }
 ],
 "metadata": {
  "kernelspec": {
   "display_name": "Python 3",
   "language": "python",
   "name": "python3"
  },
  "language_info": {
   "codemirror_mode": {
    "name": "ipython",
    "version": 3
   },
   "file_extension": ".py",
   "mimetype": "text/x-python",
   "name": "python",
   "nbconvert_exporter": "python",
   "pygments_lexer": "ipython3",
   "version": "3.7.3"
  }
 },
 "nbformat": 4,
 "nbformat_minor": 2
}
